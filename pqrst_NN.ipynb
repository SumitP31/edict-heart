{
  "nbformat": 4,
  "nbformat_minor": 0,
  "metadata": {
    "colab": {
      "provenance": [],
      "authorship_tag": "ABX9TyOGVj166+ZtTNV/aTVhrGRK",
      "include_colab_link": true
    },
    "kernelspec": {
      "name": "python3",
      "display_name": "Python 3"
    },
    "language_info": {
      "name": "python"
    }
  },
  "cells": [
    {
      "cell_type": "markdown",
      "metadata": {
        "id": "view-in-github",
        "colab_type": "text"
      },
      "source": [
        "<a href=\"https://colab.research.google.com/github/SumitP31/edict-heart/blob/main/pqrst_NN.ipynb\" target=\"_parent\"><img src=\"https://colab.research.google.com/assets/colab-badge.svg\" alt=\"Open In Colab\"/></a>"
      ]
    },
    {
      "cell_type": "code",
      "execution_count": 86,
      "metadata": {
        "id": "rzHeFbdGDyL1"
      },
      "outputs": [],
      "source": [
        "import pandas as pd\n",
        "import numpy as np\n",
        "import tensorflow as tf\n",
        "from sklearn.preprocessing import LabelEncoder"
      ]
    },
    {
      "cell_type": "code",
      "source": [
        "# Load CSV file\n",
        "df = pd.read_csv(\"Combo.csv\")\n",
        "df = df.sample(frac=1).reset_index(drop=True)\n",
        "# View first few rows\n",
        "print(df.head())\n",
        "\n",
        "\n"
      ],
      "metadata": {
        "id": "WVgtCdEvFJ6b",
        "colab": {
          "base_uri": "https://localhost:8080/"
        },
        "outputId": "76fa7bb0-1d6e-4a8b-d3bc-f596d3bd9a49"
      },
      "execution_count": 87,
      "outputs": [
        {
          "output_type": "stream",
          "name": "stdout",
          "text": [
            "   QRS   P   T     RR labels\n",
            "0   24  85  26  322.0      R\n",
            "1   43   0   0  256.0     AF\n",
            "2   49  60   0  333.0     PR\n",
            "3   52  47   0  326.0     PR\n",
            "4   42   0   0  282.0     AF\n"
          ]
        }
      ]
    },
    {
      "cell_type": "code",
      "source": [
        "# Get the name of the last column\n",
        "last_col = df.columns[-1]\n",
        "\n",
        "# Remove rows where the last column contains a specific string\n",
        "df = df[df[last_col] != '+']"
      ],
      "metadata": {
        "id": "ycoUuZxCIbP0"
      },
      "execution_count": 88,
      "outputs": []
    },
    {
      "cell_type": "code",
      "source": [
        "last_col = df.columns[-1]\n",
        "\n",
        "# Remove rows where the last column contains a specific string\n",
        "# df = df[df[last_col] != 'V']\n",
        "df = df[df[last_col] != 'R']\n",
        "# df = df[df[last_col] != 'N']\n",
        "df = df[df[last_col] != 'A']\n",
        "df = df[df[last_col] != 'F']\n",
        "df = df[df[last_col] != 'E']\n",
        "df = df[df[last_col] != 'a']\n",
        "df = df[df[last_col] != 'j']\n"
      ],
      "metadata": {
        "id": "gCDj63EXRNg3"
      },
      "execution_count": 89,
      "outputs": []
    },
    {
      "cell_type": "code",
      "source": [
        "# Convert to NumPy array (optional)\n",
        "X = df.iloc[:, :-1].values  # Features (all columns except last)\n",
        "en = df.iloc[:, -1].values   # Target variable (last column)\n",
        "print(en)"
      ],
      "metadata": {
        "id": "j64npAa7Nv6p",
        "colab": {
          "base_uri": "https://localhost:8080/"
        },
        "outputId": "84012548-81ab-44c9-b28a-6b82f381af30"
      },
      "execution_count": 90,
      "outputs": [
        {
          "output_type": "stream",
          "name": "stdout",
          "text": [
            "['AF' 'PR' 'PR' ... 'AF' 'AF' 'AF']\n"
          ]
        }
      ]
    },
    {
      "cell_type": "code",
      "source": [
        "print(f' \\n {np.unique(en)}')"
      ],
      "metadata": {
        "id": "hmEhJTRBLb_x",
        "colab": {
          "base_uri": "https://localhost:8080/"
        },
        "outputId": "323e29bc-d826-4048-e3e4-5d0e311e29b6"
      },
      "execution_count": 91,
      "outputs": [
        {
          "output_type": "stream",
          "name": "stdout",
          "text": [
            " \n",
            " ['AF' 'MSB' 'N' 'PR' 'V']\n"
          ]
        }
      ]
    },
    {
      "cell_type": "code",
      "source": [
        "X[:,-1].shape"
      ],
      "metadata": {
        "id": "xi0LwrHKspF9",
        "colab": {
          "base_uri": "https://localhost:8080/"
        },
        "outputId": "c95bce75-06cf-4303-bf6c-df29e42355c1"
      },
      "execution_count": 92,
      "outputs": [
        {
          "output_type": "execute_result",
          "data": {
            "text/plain": [
              "(5284,)"
            ]
          },
          "metadata": {},
          "execution_count": 92
        }
      ]
    },
    {
      "cell_type": "code",
      "source": [
        "# Initialize encoder\n",
        "encoder = LabelEncoder()\n",
        "y = encoder.fit_transform(en) # A = 0 ; N = 1 ; ~ = 2\n",
        "print(f'{y}  \\n {np.unique(y)}')"
      ],
      "metadata": {
        "id": "0013vYGQGmsw",
        "colab": {
          "base_uri": "https://localhost:8080/"
        },
        "outputId": "7e054f66-d9b8-428d-b2b1-4541d99e9fa9"
      },
      "execution_count": 93,
      "outputs": [
        {
          "output_type": "stream",
          "name": "stdout",
          "text": [
            "[0 3 3 ... 0 0 0]  \n",
            " [0 1 2 3 4]\n"
          ]
        }
      ]
    },
    {
      "cell_type": "code",
      "source": [
        "te_d = np.column_stack((X, y))\n",
        "\n",
        "print(y)\n",
        "print(te_d)"
      ],
      "metadata": {
        "id": "ILMrvAe_vMoU",
        "colab": {
          "base_uri": "https://localhost:8080/"
        },
        "outputId": "1849dc82-aa8a-40aa-ed5d-e75658092706"
      },
      "execution_count": 94,
      "outputs": [
        {
          "output_type": "stream",
          "name": "stdout",
          "text": [
            "[0 3 3 ... 0 0 0]\n",
            "[[ 43.   0.   0. 256.   0.]\n",
            " [ 49.  60.   0. 333.   3.]\n",
            " [ 52.  47.   0. 326.   3.]\n",
            " ...\n",
            " [ 42.   0.   0. 219.   0.]\n",
            " [ 55.   0.   0. 226.   0.]\n",
            " [ 42.   0.   0. 274.   0.]]\n"
          ]
        }
      ]
    },
    {
      "cell_type": "code",
      "source": [
        "# custom_headers = \"p,q,t,r,output\"\n",
        "# np.savetxt(\"output.csv\", te_d, delimiter=\",\", header=custom_headers, comments='', fmt='%d')"
      ],
      "metadata": {
        "id": "SMNQ1ieEtDi5"
      },
      "execution_count": 95,
      "outputs": []
    },
    {
      "cell_type": "code",
      "source": [
        "# y[y == 2] = 1"
      ],
      "metadata": {
        "id": "YD5URQigbPE5"
      },
      "execution_count": 96,
      "outputs": []
    },
    {
      "cell_type": "code",
      "source": [
        "# for i in range(len(y)):\n",
        "#   if(y[i] == 3):\n",
        "#     print(f'{i}\\n')"
      ],
      "metadata": {
        "id": "FYAyjFMtHQME"
      },
      "execution_count": 97,
      "outputs": []
    },
    {
      "cell_type": "code",
      "source": [
        "# print(X[1586,0])"
      ],
      "metadata": {
        "id": "PtCmT-t_HyYN"
      },
      "execution_count": 98,
      "outputs": []
    },
    {
      "cell_type": "code",
      "execution_count": 99,
      "metadata": {
        "id": "EW2wt5fNV4m1",
        "colab": {
          "base_uri": "https://localhost:8080/"
        },
        "outputId": "158cbbd1-7992-475f-862e-c9c18a3c117f"
      },
      "outputs": [
        {
          "output_type": "stream",
          "name": "stdout",
          "text": [
            "(9521, 4)\n",
            "(9521,)\n"
          ]
        }
      ],
      "source": [
        "from imblearn.over_sampling import RandomOverSampler\n",
        "\n",
        "oversample = RandomOverSampler(sampling_strategy='minority')\n",
        "X, y = oversample.fit_resample(X, y)\n",
        "oversample = RandomOverSampler(sampling_strategy='minority')\n",
        "X, y = oversample.fit_resample(X, y)\n",
        "\n",
        "print(X.shape)\n",
        "print(y.shape)"
      ]
    },
    {
      "cell_type": "code",
      "execution_count": 100,
      "metadata": {
        "id": "Z_0eL2-b4-qI",
        "colab": {
          "base_uri": "https://localhost:8080/"
        },
        "outputId": "3e224629-40e3-474a-8928-cf6929af0ce7"
      },
      "outputs": [
        {
          "output_type": "stream",
          "name": "stdout",
          "text": [
            "(7140, 4)\n",
            "(7140,)\n",
            "(2381, 4)\n",
            "(2381,)\n"
          ]
        }
      ],
      "source": [
        "from sklearn.model_selection import train_test_split\n",
        "\n",
        "X_train, X_test, y_train, y_test = train_test_split(\n",
        "    X, y, test_size=0.25, random_state=29)\n",
        "\n",
        "print(X_train.shape)\n",
        "print(y_train.shape)\n",
        "print(X_test.shape)\n",
        "print(y_test.shape)"
      ]
    },
    {
      "cell_type": "code",
      "execution_count": 111,
      "metadata": {
        "id": "XJUSAZIVQM2d",
        "colab": {
          "base_uri": "https://localhost:8080/"
        },
        "outputId": "693c21fd-5fa2-4ef8-8c9c-32cde626fd9a"
      },
      "outputs": [
        {
          "output_type": "stream",
          "name": "stdout",
          "text": [
            "Epoch 1/80\n",
            "\u001b[1m224/224\u001b[0m \u001b[32m━━━━━━━━━━━━━━━━━━━━\u001b[0m\u001b[37m\u001b[0m \u001b[1m2s\u001b[0m 4ms/step - accuracy: 0.2580 - loss: 1.8794 - val_accuracy: 0.2621 - val_loss: 1.5995\n",
            "Epoch 2/80\n",
            "\u001b[1m224/224\u001b[0m \u001b[32m━━━━━━━━━━━━━━━━━━━━\u001b[0m\u001b[37m\u001b[0m \u001b[1m2s\u001b[0m 6ms/step - accuracy: 0.4114 - loss: 1.5674 - val_accuracy: 0.6812 - val_loss: 1.4912\n",
            "Epoch 3/80\n",
            "\u001b[1m224/224\u001b[0m \u001b[32m━━━━━━━━━━━━━━━━━━━━\u001b[0m\u001b[37m\u001b[0m \u001b[1m3s\u001b[0m 5ms/step - accuracy: 0.6643 - loss: 1.4753 - val_accuracy: 0.7438 - val_loss: 1.4020\n",
            "Epoch 4/80\n",
            "\u001b[1m224/224\u001b[0m \u001b[32m━━━━━━━━━━━━━━━━━━━━\u001b[0m\u001b[37m\u001b[0m \u001b[1m2s\u001b[0m 3ms/step - accuracy: 0.6789 - loss: 1.3805 - val_accuracy: 0.7451 - val_loss: 1.3024\n",
            "Epoch 5/80\n",
            "\u001b[1m224/224\u001b[0m \u001b[32m━━━━━━━━━━━━━━━━━━━━\u001b[0m\u001b[37m\u001b[0m \u001b[1m1s\u001b[0m 4ms/step - accuracy: 0.6675 - loss: 1.2821 - val_accuracy: 0.7451 - val_loss: 1.2050\n",
            "Epoch 6/80\n",
            "\u001b[1m224/224\u001b[0m \u001b[32m━━━━━━━━━━━━━━━━━━━━\u001b[0m\u001b[37m\u001b[0m \u001b[1m1s\u001b[0m 5ms/step - accuracy: 0.7409 - loss: 1.1755 - val_accuracy: 0.7446 - val_loss: 1.1167\n",
            "Epoch 7/80\n",
            "\u001b[1m224/224\u001b[0m \u001b[32m━━━━━━━━━━━━━━━━━━━━\u001b[0m\u001b[37m\u001b[0m \u001b[1m1s\u001b[0m 4ms/step - accuracy: 0.7444 - loss: 1.0926 - val_accuracy: 0.7665 - val_loss: 1.0438\n",
            "Epoch 8/80\n",
            "\u001b[1m224/224\u001b[0m \u001b[32m━━━━━━━━━━━━━━━━━━━━\u001b[0m\u001b[37m\u001b[0m \u001b[1m1s\u001b[0m 3ms/step - accuracy: 0.7662 - loss: 1.0227 - val_accuracy: 0.8370 - val_loss: 0.9790\n",
            "Epoch 9/80\n",
            "\u001b[1m224/224\u001b[0m \u001b[32m━━━━━━━━━━━━━━━━━━━━\u001b[0m\u001b[37m\u001b[0m \u001b[1m1s\u001b[0m 3ms/step - accuracy: 0.8483 - loss: 0.9427 - val_accuracy: 0.8362 - val_loss: 0.9171\n",
            "Epoch 10/80\n",
            "\u001b[1m224/224\u001b[0m \u001b[32m━━━━━━━━━━━━━━━━━━━━\u001b[0m\u001b[37m\u001b[0m \u001b[1m1s\u001b[0m 3ms/step - accuracy: 0.8537 - loss: 0.8895 - val_accuracy: 0.8446 - val_loss: 0.8607\n",
            "Epoch 11/80\n",
            "\u001b[1m224/224\u001b[0m \u001b[32m━━━━━━━━━━━━━━━━━━━━\u001b[0m\u001b[37m\u001b[0m \u001b[1m1s\u001b[0m 3ms/step - accuracy: 0.8563 - loss: 0.8318 - val_accuracy: 0.8480 - val_loss: 0.8061\n",
            "Epoch 12/80\n",
            "\u001b[1m224/224\u001b[0m \u001b[32m━━━━━━━━━━━━━━━━━━━━\u001b[0m\u001b[37m\u001b[0m \u001b[1m1s\u001b[0m 3ms/step - accuracy: 0.8606 - loss: 0.7714 - val_accuracy: 0.8517 - val_loss: 0.7564\n",
            "Epoch 13/80\n",
            "\u001b[1m224/224\u001b[0m \u001b[32m━━━━━━━━━━━━━━━━━━━━\u001b[0m\u001b[37m\u001b[0m \u001b[1m1s\u001b[0m 3ms/step - accuracy: 0.8625 - loss: 0.7249 - val_accuracy: 0.8513 - val_loss: 0.7088\n",
            "Epoch 14/80\n",
            "\u001b[1m224/224\u001b[0m \u001b[32m━━━━━━━━━━━━━━━━━━━━\u001b[0m\u001b[37m\u001b[0m \u001b[1m1s\u001b[0m 3ms/step - accuracy: 0.8670 - loss: 0.6737 - val_accuracy: 0.8547 - val_loss: 0.6652\n",
            "Epoch 15/80\n",
            "\u001b[1m224/224\u001b[0m \u001b[32m━━━━━━━━━━━━━━━━━━━━\u001b[0m\u001b[37m\u001b[0m \u001b[1m1s\u001b[0m 3ms/step - accuracy: 0.8617 - loss: 0.6327 - val_accuracy: 0.8534 - val_loss: 0.6271\n",
            "Epoch 16/80\n",
            "\u001b[1m224/224\u001b[0m \u001b[32m━━━━━━━━━━━━━━━━━━━━\u001b[0m\u001b[37m\u001b[0m \u001b[1m1s\u001b[0m 3ms/step - accuracy: 0.8626 - loss: 0.5948 - val_accuracy: 0.8522 - val_loss: 0.5912\n",
            "Epoch 17/80\n",
            "\u001b[1m224/224\u001b[0m \u001b[32m━━━━━━━━━━━━━━━━━━━━\u001b[0m\u001b[37m\u001b[0m \u001b[1m1s\u001b[0m 3ms/step - accuracy: 0.8578 - loss: 0.5672 - val_accuracy: 0.8534 - val_loss: 0.5616\n",
            "Epoch 18/80\n",
            "\u001b[1m224/224\u001b[0m \u001b[32m━━━━━━━━━━━━━━━━━━━━\u001b[0m\u001b[37m\u001b[0m \u001b[1m1s\u001b[0m 3ms/step - accuracy: 0.8608 - loss: 0.5340 - val_accuracy: 0.8534 - val_loss: 0.5342\n",
            "Epoch 19/80\n",
            "\u001b[1m224/224\u001b[0m \u001b[32m━━━━━━━━━━━━━━━━━━━━\u001b[0m\u001b[37m\u001b[0m \u001b[1m1s\u001b[0m 3ms/step - accuracy: 0.8662 - loss: 0.4981 - val_accuracy: 0.8543 - val_loss: 0.5112\n",
            "Epoch 20/80\n",
            "\u001b[1m224/224\u001b[0m \u001b[32m━━━━━━━━━━━━━━━━━━━━\u001b[0m\u001b[37m\u001b[0m \u001b[1m2s\u001b[0m 4ms/step - accuracy: 0.8638 - loss: 0.4799 - val_accuracy: 0.8551 - val_loss: 0.4911\n",
            "Epoch 21/80\n",
            "\u001b[1m224/224\u001b[0m \u001b[32m━━━━━━━━━━━━━━━━━━━━\u001b[0m\u001b[37m\u001b[0m \u001b[1m1s\u001b[0m 5ms/step - accuracy: 0.8664 - loss: 0.4526 - val_accuracy: 0.8543 - val_loss: 0.4710\n",
            "Epoch 22/80\n",
            "\u001b[1m224/224\u001b[0m \u001b[32m━━━━━━━━━━━━━━━━━━━━\u001b[0m\u001b[37m\u001b[0m \u001b[1m1s\u001b[0m 4ms/step - accuracy: 0.8670 - loss: 0.4384 - val_accuracy: 0.8543 - val_loss: 0.4545\n",
            "Epoch 23/80\n",
            "\u001b[1m224/224\u001b[0m \u001b[32m━━━━━━━━━━━━━━━━━━━━\u001b[0m\u001b[37m\u001b[0m \u001b[1m1s\u001b[0m 3ms/step - accuracy: 0.8669 - loss: 0.4247 - val_accuracy: 0.8568 - val_loss: 0.4406\n",
            "Epoch 24/80\n",
            "\u001b[1m224/224\u001b[0m \u001b[32m━━━━━━━━━━━━━━━━━━━━\u001b[0m\u001b[37m\u001b[0m \u001b[1m1s\u001b[0m 3ms/step - accuracy: 0.8576 - loss: 0.4265 - val_accuracy: 0.8547 - val_loss: 0.4269\n",
            "Epoch 25/80\n",
            "\u001b[1m224/224\u001b[0m \u001b[32m━━━━━━━━━━━━━━━━━━━━\u001b[0m\u001b[37m\u001b[0m \u001b[1m1s\u001b[0m 3ms/step - accuracy: 0.8694 - loss: 0.3932 - val_accuracy: 0.8601 - val_loss: 0.4138\n",
            "Epoch 26/80\n",
            "\u001b[1m224/224\u001b[0m \u001b[32m━━━━━━━━━━━━━━━━━━━━\u001b[0m\u001b[37m\u001b[0m \u001b[1m1s\u001b[0m 3ms/step - accuracy: 0.8632 - loss: 0.3986 - val_accuracy: 0.8580 - val_loss: 0.4013\n",
            "Epoch 27/80\n",
            "\u001b[1m224/224\u001b[0m \u001b[32m━━━━━━━━━━━━━━━━━━━━\u001b[0m\u001b[37m\u001b[0m \u001b[1m1s\u001b[0m 3ms/step - accuracy: 0.8694 - loss: 0.3762 - val_accuracy: 0.8698 - val_loss: 0.3897\n",
            "Epoch 28/80\n",
            "\u001b[1m224/224\u001b[0m \u001b[32m━━━━━━━━━━━━━━━━━━━━\u001b[0m\u001b[37m\u001b[0m \u001b[1m1s\u001b[0m 3ms/step - accuracy: 0.8817 - loss: 0.3533 - val_accuracy: 0.8757 - val_loss: 0.3784\n",
            "Epoch 29/80\n",
            "\u001b[1m224/224\u001b[0m \u001b[32m━━━━━━━━━━━━━━━━━━━━\u001b[0m\u001b[37m\u001b[0m \u001b[1m1s\u001b[0m 3ms/step - accuracy: 0.8848 - loss: 0.3625 - val_accuracy: 0.8900 - val_loss: 0.3682\n",
            "Epoch 30/80\n",
            "\u001b[1m224/224\u001b[0m \u001b[32m━━━━━━━━━━━━━━━━━━━━\u001b[0m\u001b[37m\u001b[0m \u001b[1m1s\u001b[0m 3ms/step - accuracy: 0.9049 - loss: 0.3236 - val_accuracy: 0.9030 - val_loss: 0.3579\n",
            "Epoch 31/80\n",
            "\u001b[1m224/224\u001b[0m \u001b[32m━━━━━━━━━━━━━━━━━━━━\u001b[0m\u001b[37m\u001b[0m \u001b[1m1s\u001b[0m 3ms/step - accuracy: 0.9079 - loss: 0.3345 - val_accuracy: 0.9101 - val_loss: 0.3499\n",
            "Epoch 32/80\n",
            "\u001b[1m224/224\u001b[0m \u001b[32m━━━━━━━━━━━━━━━━━━━━\u001b[0m\u001b[37m\u001b[0m \u001b[1m1s\u001b[0m 3ms/step - accuracy: 0.9189 - loss: 0.3184 - val_accuracy: 0.9139 - val_loss: 0.3394\n",
            "Epoch 33/80\n",
            "\u001b[1m224/224\u001b[0m \u001b[32m━━━━━━━━━━━━━━━━━━━━\u001b[0m\u001b[37m\u001b[0m \u001b[1m1s\u001b[0m 3ms/step - accuracy: 0.9193 - loss: 0.3223 - val_accuracy: 0.9177 - val_loss: 0.3316\n",
            "Epoch 34/80\n",
            "\u001b[1m224/224\u001b[0m \u001b[32m━━━━━━━━━━━━━━━━━━━━\u001b[0m\u001b[37m\u001b[0m \u001b[1m1s\u001b[0m 4ms/step - accuracy: 0.9211 - loss: 0.3113 - val_accuracy: 0.9177 - val_loss: 0.3226\n",
            "Epoch 35/80\n",
            "\u001b[1m224/224\u001b[0m \u001b[32m━━━━━━━━━━━━━━━━━━━━\u001b[0m\u001b[37m\u001b[0m \u001b[1m2s\u001b[0m 5ms/step - accuracy: 0.9245 - loss: 0.3038 - val_accuracy: 0.9215 - val_loss: 0.3134\n",
            "Epoch 36/80\n",
            "\u001b[1m224/224\u001b[0m \u001b[32m━━━━━━━━━━━━━━━━━━━━\u001b[0m\u001b[37m\u001b[0m \u001b[1m1s\u001b[0m 4ms/step - accuracy: 0.9263 - loss: 0.2953 - val_accuracy: 0.9240 - val_loss: 0.3058\n",
            "Epoch 37/80\n",
            "\u001b[1m224/224\u001b[0m \u001b[32m━━━━━━━━━━━━━━━━━━━━\u001b[0m\u001b[37m\u001b[0m \u001b[1m1s\u001b[0m 3ms/step - accuracy: 0.9336 - loss: 0.2757 - val_accuracy: 0.9286 - val_loss: 0.2985\n",
            "Epoch 38/80\n",
            "\u001b[1m224/224\u001b[0m \u001b[32m━━━━━━━━━━━━━━━━━━━━\u001b[0m\u001b[37m\u001b[0m \u001b[1m1s\u001b[0m 3ms/step - accuracy: 0.9358 - loss: 0.2723 - val_accuracy: 0.9299 - val_loss: 0.2915\n",
            "Epoch 39/80\n",
            "\u001b[1m224/224\u001b[0m \u001b[32m━━━━━━━━━━━━━━━━━━━━\u001b[0m\u001b[37m\u001b[0m \u001b[1m1s\u001b[0m 3ms/step - accuracy: 0.9359 - loss: 0.2683 - val_accuracy: 0.9307 - val_loss: 0.2841\n",
            "Epoch 40/80\n",
            "\u001b[1m224/224\u001b[0m \u001b[32m━━━━━━━━━━━━━━━━━━━━\u001b[0m\u001b[37m\u001b[0m \u001b[1m1s\u001b[0m 3ms/step - accuracy: 0.9365 - loss: 0.2616 - val_accuracy: 0.9328 - val_loss: 0.2776\n",
            "Epoch 41/80\n",
            "\u001b[1m224/224\u001b[0m \u001b[32m━━━━━━━━━━━━━━━━━━━━\u001b[0m\u001b[37m\u001b[0m \u001b[1m1s\u001b[0m 3ms/step - accuracy: 0.9402 - loss: 0.2569 - val_accuracy: 0.9378 - val_loss: 0.2718\n",
            "Epoch 42/80\n",
            "\u001b[1m224/224\u001b[0m \u001b[32m━━━━━━━━━━━━━━━━━━━━\u001b[0m\u001b[37m\u001b[0m \u001b[1m1s\u001b[0m 3ms/step - accuracy: 0.9392 - loss: 0.2544 - val_accuracy: 0.9408 - val_loss: 0.2663\n",
            "Epoch 43/80\n",
            "\u001b[1m224/224\u001b[0m \u001b[32m━━━━━━━━━━━━━━━━━━━━\u001b[0m\u001b[37m\u001b[0m \u001b[1m1s\u001b[0m 3ms/step - accuracy: 0.9436 - loss: 0.2416 - val_accuracy: 0.9420 - val_loss: 0.2608\n",
            "Epoch 44/80\n",
            "\u001b[1m224/224\u001b[0m \u001b[32m━━━━━━━━━━━━━━━━━━━━\u001b[0m\u001b[37m\u001b[0m \u001b[1m1s\u001b[0m 3ms/step - accuracy: 0.9456 - loss: 0.2457 - val_accuracy: 0.9429 - val_loss: 0.2556\n",
            "Epoch 45/80\n",
            "\u001b[1m224/224\u001b[0m \u001b[32m━━━━━━━━━━━━━━━━━━━━\u001b[0m\u001b[37m\u001b[0m \u001b[1m2s\u001b[0m 4ms/step - accuracy: 0.9487 - loss: 0.2386 - val_accuracy: 0.9441 - val_loss: 0.2507\n",
            "Epoch 46/80\n",
            "\u001b[1m224/224\u001b[0m \u001b[32m━━━━━━━━━━━━━━━━━━━━\u001b[0m\u001b[37m\u001b[0m \u001b[1m2s\u001b[0m 5ms/step - accuracy: 0.9497 - loss: 0.2389 - val_accuracy: 0.9450 - val_loss: 0.2462\n",
            "Epoch 47/80\n",
            "\u001b[1m224/224\u001b[0m \u001b[32m━━━━━━━━━━━━━━━━━━━━\u001b[0m\u001b[37m\u001b[0m \u001b[1m2s\u001b[0m 8ms/step - accuracy: 0.9492 - loss: 0.2312 - val_accuracy: 0.9467 - val_loss: 0.2418\n",
            "Epoch 48/80\n",
            "\u001b[1m224/224\u001b[0m \u001b[32m━━━━━━━━━━━━━━━━━━━━\u001b[0m\u001b[37m\u001b[0m \u001b[1m2s\u001b[0m 3ms/step - accuracy: 0.9510 - loss: 0.2287 - val_accuracy: 0.9475 - val_loss: 0.2378\n",
            "Epoch 49/80\n",
            "\u001b[1m224/224\u001b[0m \u001b[32m━━━━━━━━━━━━━━━━━━━━\u001b[0m\u001b[37m\u001b[0m \u001b[1m1s\u001b[0m 3ms/step - accuracy: 0.9546 - loss: 0.2093 - val_accuracy: 0.9479 - val_loss: 0.2335\n",
            "Epoch 50/80\n",
            "\u001b[1m224/224\u001b[0m \u001b[32m━━━━━━━━━━━━━━━━━━━━\u001b[0m\u001b[37m\u001b[0m \u001b[1m1s\u001b[0m 3ms/step - accuracy: 0.9503 - loss: 0.2172 - val_accuracy: 0.9475 - val_loss: 0.2299\n",
            "Epoch 51/80\n",
            "\u001b[1m224/224\u001b[0m \u001b[32m━━━━━━━━━━━━━━━━━━━━\u001b[0m\u001b[37m\u001b[0m \u001b[1m1s\u001b[0m 3ms/step - accuracy: 0.9527 - loss: 0.2110 - val_accuracy: 0.9475 - val_loss: 0.2269\n",
            "Epoch 52/80\n",
            "\u001b[1m224/224\u001b[0m \u001b[32m━━━━━━━━━━━━━━━━━━━━\u001b[0m\u001b[37m\u001b[0m \u001b[1m1s\u001b[0m 3ms/step - accuracy: 0.9560 - loss: 0.1916 - val_accuracy: 0.9479 - val_loss: 0.2235\n",
            "Epoch 53/80\n",
            "\u001b[1m224/224\u001b[0m \u001b[32m━━━━━━━━━━━━━━━━━━━━\u001b[0m\u001b[37m\u001b[0m \u001b[1m1s\u001b[0m 3ms/step - accuracy: 0.9524 - loss: 0.2052 - val_accuracy: 0.9483 - val_loss: 0.2208\n",
            "Epoch 54/80\n",
            "\u001b[1m224/224\u001b[0m \u001b[32m━━━━━━━━━━━━━━━━━━━━\u001b[0m\u001b[37m\u001b[0m \u001b[1m1s\u001b[0m 3ms/step - accuracy: 0.9564 - loss: 0.1861 - val_accuracy: 0.9479 - val_loss: 0.2176\n",
            "Epoch 55/80\n",
            "\u001b[1m224/224\u001b[0m \u001b[32m━━━━━━━━━━━━━━━━━━━━\u001b[0m\u001b[37m\u001b[0m \u001b[1m1s\u001b[0m 3ms/step - accuracy: 0.9520 - loss: 0.2004 - val_accuracy: 0.9483 - val_loss: 0.2157\n",
            "Epoch 56/80\n",
            "\u001b[1m224/224\u001b[0m \u001b[32m━━━━━━━━━━━━━━━━━━━━\u001b[0m\u001b[37m\u001b[0m \u001b[1m1s\u001b[0m 3ms/step - accuracy: 0.9501 - loss: 0.2072 - val_accuracy: 0.9483 - val_loss: 0.2135\n",
            "Epoch 57/80\n",
            "\u001b[1m224/224\u001b[0m \u001b[32m━━━━━━━━━━━━━━━━━━━━\u001b[0m\u001b[37m\u001b[0m \u001b[1m1s\u001b[0m 3ms/step - accuracy: 0.9512 - loss: 0.2038 - val_accuracy: 0.9483 - val_loss: 0.2111\n",
            "Epoch 58/80\n",
            "\u001b[1m224/224\u001b[0m \u001b[32m━━━━━━━━━━━━━━━━━━━━\u001b[0m\u001b[37m\u001b[0m \u001b[1m1s\u001b[0m 3ms/step - accuracy: 0.9522 - loss: 0.1918 - val_accuracy: 0.9488 - val_loss: 0.2088\n",
            "Epoch 59/80\n",
            "\u001b[1m224/224\u001b[0m \u001b[32m━━━━━━━━━━━━━━━━━━━━\u001b[0m\u001b[37m\u001b[0m \u001b[1m1s\u001b[0m 4ms/step - accuracy: 0.9544 - loss: 0.1897 - val_accuracy: 0.9492 - val_loss: 0.2075\n",
            "Epoch 60/80\n",
            "\u001b[1m224/224\u001b[0m \u001b[32m━━━━━━━━━━━━━━━━━━━━\u001b[0m\u001b[37m\u001b[0m \u001b[1m1s\u001b[0m 5ms/step - accuracy: 0.9496 - loss: 0.2009 - val_accuracy: 0.9492 - val_loss: 0.2053\n",
            "Epoch 61/80\n",
            "\u001b[1m224/224\u001b[0m \u001b[32m━━━━━━━━━━━━━━━━━━━━\u001b[0m\u001b[37m\u001b[0m \u001b[1m1s\u001b[0m 3ms/step - accuracy: 0.9519 - loss: 0.1889 - val_accuracy: 0.9492 - val_loss: 0.2039\n",
            "Epoch 62/80\n",
            "\u001b[1m224/224\u001b[0m \u001b[32m━━━━━━━━━━━━━━━━━━━━\u001b[0m\u001b[37m\u001b[0m \u001b[1m1s\u001b[0m 3ms/step - accuracy: 0.9492 - loss: 0.1930 - val_accuracy: 0.9483 - val_loss: 0.2016\n",
            "Epoch 63/80\n",
            "\u001b[1m224/224\u001b[0m \u001b[32m━━━━━━━━━━━━━━━━━━━━\u001b[0m\u001b[37m\u001b[0m \u001b[1m1s\u001b[0m 3ms/step - accuracy: 0.9522 - loss: 0.1935 - val_accuracy: 0.9492 - val_loss: 0.2000\n",
            "Epoch 64/80\n",
            "\u001b[1m224/224\u001b[0m \u001b[32m━━━━━━━━━━━━━━━━━━━━\u001b[0m\u001b[37m\u001b[0m \u001b[1m1s\u001b[0m 3ms/step - accuracy: 0.9563 - loss: 0.1755 - val_accuracy: 0.9488 - val_loss: 0.1984\n",
            "Epoch 65/80\n",
            "\u001b[1m224/224\u001b[0m \u001b[32m━━━━━━━━━━━━━━━━━━━━\u001b[0m\u001b[37m\u001b[0m \u001b[1m1s\u001b[0m 3ms/step - accuracy: 0.9546 - loss: 0.1842 - val_accuracy: 0.9488 - val_loss: 0.1973\n",
            "Epoch 66/80\n",
            "\u001b[1m224/224\u001b[0m \u001b[32m━━━━━━━━━━━━━━━━━━━━\u001b[0m\u001b[37m\u001b[0m \u001b[1m1s\u001b[0m 3ms/step - accuracy: 0.9569 - loss: 0.1683 - val_accuracy: 0.9479 - val_loss: 0.1963\n",
            "Epoch 67/80\n",
            "\u001b[1m224/224\u001b[0m \u001b[32m━━━━━━━━━━━━━━━━━━━━\u001b[0m\u001b[37m\u001b[0m \u001b[1m1s\u001b[0m 3ms/step - accuracy: 0.9521 - loss: 0.1889 - val_accuracy: 0.9488 - val_loss: 0.1952\n",
            "Epoch 68/80\n",
            "\u001b[1m224/224\u001b[0m \u001b[32m━━━━━━━━━━━━━━━━━━━━\u001b[0m\u001b[37m\u001b[0m \u001b[1m1s\u001b[0m 3ms/step - accuracy: 0.9562 - loss: 0.1714 - val_accuracy: 0.9488 - val_loss: 0.1938\n",
            "Epoch 69/80\n",
            "\u001b[1m224/224\u001b[0m \u001b[32m━━━━━━━━━━━━━━━━━━━━\u001b[0m\u001b[37m\u001b[0m \u001b[1m1s\u001b[0m 3ms/step - accuracy: 0.9553 - loss: 0.1784 - val_accuracy: 0.9496 - val_loss: 0.1925\n",
            "Epoch 70/80\n",
            "\u001b[1m224/224\u001b[0m \u001b[32m━━━━━━━━━━━━━━━━━━━━\u001b[0m\u001b[37m\u001b[0m \u001b[1m1s\u001b[0m 3ms/step - accuracy: 0.9551 - loss: 0.1729 - val_accuracy: 0.9479 - val_loss: 0.1920\n",
            "Epoch 71/80\n",
            "\u001b[1m224/224\u001b[0m \u001b[32m━━━━━━━━━━━━━━━━━━━━\u001b[0m\u001b[37m\u001b[0m \u001b[1m1s\u001b[0m 3ms/step - accuracy: 0.9518 - loss: 0.1792 - val_accuracy: 0.9496 - val_loss: 0.1904\n",
            "Epoch 72/80\n",
            "\u001b[1m224/224\u001b[0m \u001b[32m━━━━━━━━━━━━━━━━━━━━\u001b[0m\u001b[37m\u001b[0m \u001b[1m1s\u001b[0m 3ms/step - accuracy: 0.9536 - loss: 0.1778 - val_accuracy: 0.9496 - val_loss: 0.1898\n",
            "Epoch 73/80\n",
            "\u001b[1m224/224\u001b[0m \u001b[32m━━━━━━━━━━━━━━━━━━━━\u001b[0m\u001b[37m\u001b[0m \u001b[1m1s\u001b[0m 4ms/step - accuracy: 0.9549 - loss: 0.1708 - val_accuracy: 0.9500 - val_loss: 0.1892\n",
            "Epoch 74/80\n",
            "\u001b[1m224/224\u001b[0m \u001b[32m━━━━━━━━━━━━━━━━━━━━\u001b[0m\u001b[37m\u001b[0m \u001b[1m1s\u001b[0m 4ms/step - accuracy: 0.9561 - loss: 0.1656 - val_accuracy: 0.9500 - val_loss: 0.1884\n",
            "Epoch 75/80\n",
            "\u001b[1m224/224\u001b[0m \u001b[32m━━━━━━━━━━━━━━━━━━━━\u001b[0m\u001b[37m\u001b[0m \u001b[1m1s\u001b[0m 3ms/step - accuracy: 0.9569 - loss: 0.1641 - val_accuracy: 0.9500 - val_loss: 0.1870\n",
            "Epoch 76/80\n",
            "\u001b[1m224/224\u001b[0m \u001b[32m━━━━━━━━━━━━━━━━━━━━\u001b[0m\u001b[37m\u001b[0m \u001b[1m1s\u001b[0m 3ms/step - accuracy: 0.9516 - loss: 0.1738 - val_accuracy: 0.9504 - val_loss: 0.1863\n",
            "Epoch 77/80\n",
            "\u001b[1m224/224\u001b[0m \u001b[32m━━━━━━━━━━━━━━━━━━━━\u001b[0m\u001b[37m\u001b[0m \u001b[1m1s\u001b[0m 3ms/step - accuracy: 0.9527 - loss: 0.1714 - val_accuracy: 0.9496 - val_loss: 0.1857\n",
            "Epoch 78/80\n",
            "\u001b[1m224/224\u001b[0m \u001b[32m━━━━━━━━━━━━━━━━━━━━\u001b[0m\u001b[37m\u001b[0m \u001b[1m1s\u001b[0m 3ms/step - accuracy: 0.9513 - loss: 0.1767 - val_accuracy: 0.9496 - val_loss: 0.1849\n",
            "Epoch 79/80\n",
            "\u001b[1m224/224\u001b[0m \u001b[32m━━━━━━━━━━━━━━━━━━━━\u001b[0m\u001b[37m\u001b[0m \u001b[1m1s\u001b[0m 3ms/step - accuracy: 0.9514 - loss: 0.1814 - val_accuracy: 0.9500 - val_loss: 0.1839\n",
            "Epoch 80/80\n",
            "\u001b[1m224/224\u001b[0m \u001b[32m━━━━━━━━━━━━━━━━━━━━\u001b[0m\u001b[37m\u001b[0m \u001b[1m1s\u001b[0m 3ms/step - accuracy: 0.9520 - loss: 0.1690 - val_accuracy: 0.9500 - val_loss: 0.1835\n"
          ]
        }
      ],
      "source": [
        "import tensorflow as tf\n",
        "\n",
        "X_train = tf.keras.utils.normalize(X_train, axis=1)\n",
        "X_test = tf.keras.utils.normalize(X_test, axis=1)\n",
        "\n",
        "model = tf.keras.models.Sequential()\n",
        "\n",
        "model.add(tf.keras.layers.Flatten())\n",
        "model.add(tf.keras.layers.Dense(10, activation=tf.nn.sigmoid))\n",
        "# model.add(tf.keras.layers.Dense(8, activation=tf.nn.sigmoid))\n",
        "model.add(tf.keras.layers.Dense(7, activation=tf.nn.softmax))\n",
        "\n",
        "model.compile(optimizer='adam',\n",
        "              loss='sparse_categorical_crossentropy',\n",
        "              metrics=['accuracy'])\n",
        "\n",
        "history = model.fit(X_train, y_train, validation_data=(X_test, y_test), epochs=80)"
      ]
    },
    {
      "cell_type": "code",
      "source": [
        "# Extract all layer weights\n",
        "for layer in model.layers:\n",
        "    weights = layer.get_weights()  # List of NumPy arrays (weights & biases)\n",
        "    print(f\"Layer: {layer.name}\")\n",
        "    for w in weights:\n",
        "        print(w.shape)  # Shape of weight matrices"
      ],
      "metadata": {
        "id": "Be6Hzuq2gN0L",
        "colab": {
          "base_uri": "https://localhost:8080/"
        },
        "outputId": "bd1657cc-5158-4210-fcae-6a50dba812a7"
      },
      "execution_count": 112,
      "outputs": [
        {
          "output_type": "stream",
          "name": "stdout",
          "text": [
            "Layer: flatten_6\n",
            "Layer: dense_17\n",
            "(4, 10)\n",
            "(10,)\n",
            "Layer: dense_18\n",
            "(10, 7)\n",
            "(7,)\n"
          ]
        }
      ]
    },
    {
      "cell_type": "code",
      "source": [
        "# weights, biases = model.get_layer(\"dense_18\").get_weights()\n",
        "# print(\"Weights:\\n\", weights)\n",
        "# print(\"Biases:\\n\", biases)"
      ],
      "metadata": {
        "id": "9PGMI476iW68"
      },
      "execution_count": 113,
      "outputs": []
    },
    {
      "cell_type": "code",
      "source": [
        "# # for laye in model.layers:\n",
        "# weights, biases = model.get_layer(\"dense_19\").get_weights()\n",
        "# print(\"Weights:\\n\", weights)\n",
        "# print(\"Biases:\\n\", biases)"
      ],
      "metadata": {
        "id": "4rexaItbgvoU"
      },
      "execution_count": 114,
      "outputs": []
    },
    {
      "cell_type": "code",
      "source": [
        "weightList = []\n",
        "biasList = []\n",
        "for i in range(1,len(model.layers)):\n",
        "  weights = model.layers[i].get_weights()[0]\n",
        "  weightList.append((weights.T).tolist())\n",
        "  bias = [[float(b)] for b in model.layers[i].get_weights()[1]]\n",
        "  biasList.append(bias)"
      ],
      "metadata": {
        "id": "QpR0AZh1usnm"
      },
      "execution_count": 115,
      "outputs": []
    },
    {
      "cell_type": "code",
      "source": [
        "import json\n",
        "data = {\"weights\": weightList, \"biases\": biasList}\n",
        "f = open(\"weights.txt\", \"w\")\n",
        "json.dump(data, f)\n",
        "f.close()"
      ],
      "metadata": {
        "id": "0dhxlEKzvx2B"
      },
      "execution_count": 116,
      "outputs": []
    },
    {
      "cell_type": "code",
      "source": [
        "predict = np.argmax(model.predict(X_test), axis=-1)\n",
        "print(f'predict: {predict}')\n",
        "print(f'y_test: {y_test}')"
      ],
      "metadata": {
        "id": "pXvy_LtINIjM",
        "colab": {
          "base_uri": "https://localhost:8080/"
        },
        "outputId": "5bcad8a8-f255-4011-fce0-897109cdbee3"
      },
      "execution_count": 117,
      "outputs": [
        {
          "output_type": "stream",
          "name": "stdout",
          "text": [
            "\u001b[1m75/75\u001b[0m \u001b[32m━━━━━━━━━━━━━━━━━━━━\u001b[0m\u001b[37m\u001b[0m \u001b[1m0s\u001b[0m 2ms/step\n",
            "predict: [1 1 0 ... 1 0 0]\n",
            "y_test: [1 1 0 ... 1 0 0]\n"
          ]
        }
      ]
    },
    {
      "cell_type": "code",
      "source": [
        "from mlxtend.plotting import plot_confusion_matrix\n",
        "from sklearn.metrics import confusion_matrix\n",
        "\n",
        "mat = confusion_matrix(y_test, predict)\n",
        "plot_confusion_matrix(conf_mat=mat, figsize=(5, 5))"
      ],
      "metadata": {
        "id": "UGSHDiNBNKfj",
        "colab": {
          "base_uri": "https://localhost:8080/",
          "height": 502
        },
        "outputId": "575181fe-e6fa-4ffe-d804-f1bac12c9ea3"
      },
      "execution_count": 118,
      "outputs": [
        {
          "output_type": "execute_result",
          "data": {
            "text/plain": [
              "(<Figure size 500x500 with 1 Axes>,\n",
              " <Axes: xlabel='predicted label', ylabel='true label'>)"
            ]
          },
          "metadata": {},
          "execution_count": 118
        },
        {
          "output_type": "display_data",
          "data": {
            "text/plain": [
              "<Figure size 500x500 with 1 Axes>"
            ],
            "image/png": "[encoded data removed]"
          },
          "metadata": {}
        }
      ]
    },
    {
      "cell_type": "markdown",
      "source": [
        "### Automate FPGA code"
      ],
      "metadata": {
        "id": "Ou_Cj_Cdy4q9"
      }
    },
    {
      "cell_type": "code",
      "source": [
        "# !pip install zynet"
      ],
      "metadata": {
        "id": "F-qo0oSly_XV"
      },
      "execution_count": 119,
      "outputs": []
    },
    {
      "cell_type": "code",
      "source": [
        "from zynet import utils\n",
        "from zynet import zynet\n",
        "\n",
        "def genMnistZynet(dataWidth, sigmoidSize, weightIntSize,inputIntSize):\n",
        "  model = zynet.model()\n",
        "  model.add(zynet.layer(\"flatten\", 3))\n",
        "  model.add(zynet.layer(\"Dense\",5,\"sigmoid\"))\n",
        "  model.add(zynet.layer(\"Dense\",2,\"softmax\"))\n",
        "  weightArray = utils.genWeightArray('weights.txt')\n",
        "  biasArray = utils.genBiasArray('weights.txt')\n",
        "  model.compile(pretrained='Yes', weights = weightArray, biases = biasArray, dataWidth = dataWidth, weightIntSize = weightIntSize, inputIntSize = inputIntSize, sigmoidSize = sigmoidSize)\n",
        "  zynet.makeXilinxProject('ecg_ann', 'xc7a100tcsg324-1')\n",
        "\n"
      ],
      "metadata": {
        "id": "fqwBr7ZHzE-U",
        "colab": {
          "base_uri": "https://localhost:8080/",
          "height": 403
        },
        "outputId": "111f4fb2-93bf-4f6f-a0d6-180fa7c981ca"
      },
      "execution_count": 120,
      "outputs": [
        {
          "output_type": "error",
          "ename": "ModuleNotFoundError",
          "evalue": "No module named 'zynet'",
          "traceback": [
            "\u001b[0;31m---------------------------------------------------------------------------\u001b[0m",
            "\u001b[0;31mModuleNotFoundError\u001b[0m                       Traceback (most recent call last)",
            "\u001b[0;32m<ipython-input-120-191d3acbc907>\u001b[0m in \u001b[0;36m<cell line: 0>\u001b[0;34m()\u001b[0m\n\u001b[0;32m----> 1\u001b[0;31m \u001b[0;32mfrom\u001b[0m \u001b[0mzynet\u001b[0m \u001b[0;32mimport\u001b[0m \u001b[0mutils\u001b[0m\u001b[0;34m\u001b[0m\u001b[0;34m\u001b[0m\u001b[0m\n\u001b[0m\u001b[1;32m      2\u001b[0m \u001b[0;32mfrom\u001b[0m \u001b[0mzynet\u001b[0m \u001b[0;32mimport\u001b[0m \u001b[0mzynet\u001b[0m\u001b[0;34m\u001b[0m\u001b[0;34m\u001b[0m\u001b[0m\n\u001b[1;32m      3\u001b[0m \u001b[0;34m\u001b[0m\u001b[0m\n\u001b[1;32m      4\u001b[0m \u001b[0;32mdef\u001b[0m \u001b[0mgenMnistZynet\u001b[0m\u001b[0;34m(\u001b[0m\u001b[0mdataWidth\u001b[0m\u001b[0;34m,\u001b[0m \u001b[0msigmoidSize\u001b[0m\u001b[0;34m,\u001b[0m \u001b[0mweightIntSize\u001b[0m\u001b[0;34m,\u001b[0m\u001b[0minputIntSize\u001b[0m\u001b[0;34m)\u001b[0m\u001b[0;34m:\u001b[0m\u001b[0;34m\u001b[0m\u001b[0;34m\u001b[0m\u001b[0m\n\u001b[1;32m      5\u001b[0m   \u001b[0mmodel\u001b[0m \u001b[0;34m=\u001b[0m \u001b[0mzynet\u001b[0m\u001b[0;34m.\u001b[0m\u001b[0mmodel\u001b[0m\u001b[0;34m(\u001b[0m\u001b[0;34m)\u001b[0m\u001b[0;34m\u001b[0m\u001b[0;34m\u001b[0m\u001b[0m\n",
            "\u001b[0;31mModuleNotFoundError\u001b[0m: No module named 'zynet'",
            "",
            "\u001b[0;31m---------------------------------------------------------------------------\u001b[0;32m\nNOTE: If your import is failing due to a missing package, you can\nmanually install dependencies using either !pip or !apt.\n\nTo view examples of installing some common dependencies, click the\n\"Open Examples\" button below.\n\u001b[0;31m---------------------------------------------------------------------------\u001b[0m\n"
          ],
          "errorDetails": {
            "actions": [
              {
                "action": "open_url",
                "actionText": "Open Examples",
                "url": "/notebooks/snippets/importing_libraries.ipynb"
              }
            ]
          }
        }
      ]
    },
    {
      "cell_type": "code",
      "source": [
        "genMnistZynet(dataWidth=16,sigmoidSize=10,weightIntSize=3,inputIntSize=2)"
      ],
      "metadata": {
        "id": "6dclhXkC1__C"
      },
      "execution_count": null,
      "outputs": []
    },
    {
      "cell_type": "code",
      "source": [
        "from google.colab import drive\n",
        "drive.mount('/content/drive')"
      ],
      "metadata": {
        "id": "PmNVep0O33Nr"
      },
      "execution_count": null,
      "outputs": []
    },
    {
      "cell_type": "code",
      "source": [
        "!cd /content/src\n",
        "!zip -r dataset.zip fpga/"
      ],
      "metadata": {
        "id": "yGDPl_Ww4GyU"
      },
      "execution_count": null,
      "outputs": []
    },
    {
      "cell_type": "code",
      "source": [
        "from google.colab import files\n",
        "files.download('dataset.zip')"
      ],
      "metadata": {
        "id": "EitgZy-14QgK"
      },
      "execution_count": null,
      "outputs": []
    },
    {
      "cell_type": "code",
      "source": [
        "!cd /content/"
      ],
      "metadata": {
        "id": "gAaS-9bq6QV0"
      },
      "execution_count": null,
      "outputs": []
    }
  ]
}